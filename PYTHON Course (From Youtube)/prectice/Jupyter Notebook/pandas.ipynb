{
 "cells": [
  {
   "cell_type": "markdown",
   "id": "cbffec52-1e92-49bc-8c93-529840671097",
   "metadata": {},
   "source": [
    "# PANDAS #"
   ]
  },
  {
   "cell_type": "code",
   "execution_count": 1,
   "id": "aac8e075-8db0-487a-874b-3f58495dc6b6",
   "metadata": {},
   "outputs": [],
   "source": [
    "import pandas as pd"
   ]
  },
  {
   "cell_type": "code",
   "execution_count": 2,
   "id": "2b1be6a7-2bea-4909-aded-63588ca210bd",
   "metadata": {},
   "outputs": [],
   "source": [
    "data = {\n",
    "    'name': ['Mihir', 'Aryan', 'Sneha', 'Rohan'],\n",
    "    'age' : [20, 18, 22, 21],\n",
    "    'city': ['Mehsana', 'Surat', 'Rajkot', 'Vadodara']\n",
    "}\n",
    "\n",
    "df = pd.DataFrame(data)"
   ]
  },
  {
   "cell_type": "code",
   "execution_count": 3,
   "id": "73b4e613-6671-47f0-ba4e-48b93533a12b",
   "metadata": {},
   "outputs": [
    {
     "name": "stdout",
     "output_type": "stream",
     "text": [
      "    name  age      city\n",
      "0  Mihir   20   Mehsana\n",
      "1  Aryan   18     Surat\n",
      "2  Sneha   22    Rajkot\n",
      "3  Rohan   21  Vadodara\n"
     ]
    }
   ],
   "source": [
    "print(df)"
   ]
  },
  {
   "cell_type": "code",
   "execution_count": 5,
   "id": "3aa4f0a8-9201-450f-9df6-9fb93a589bee",
   "metadata": {},
   "outputs": [],
   "source": [
    "df.to_csv(\"student.csv\",index=False)"
   ]
  },
  {
   "cell_type": "code",
   "execution_count": 6,
   "id": "a9e96d49-f899-41f4-bd78-8865a6e04a8e",
   "metadata": {},
   "outputs": [
    {
     "name": "stdout",
     "output_type": "stream",
     "text": [
      "    name  age      city\n",
      "0  Mihir   20   Mehsana\n",
      "1  Aryan   18     Surat\n",
      "2  Sneha   22    Rajkot\n",
      "3  Rohan   21  Vadodara\n"
     ]
    }
   ],
   "source": [
    "print(pd.read_csv(\"student.csv\"))"
   ]
  },
  {
   "cell_type": "code",
   "execution_count": 7,
   "id": "c643c871-dbe3-4851-b749-5874cd9b1527",
   "metadata": {},
   "outputs": [
    {
     "name": "stdout",
     "output_type": "stream",
     "text": [
      "<class 'pandas.core.frame.DataFrame'>\n",
      "RangeIndex: 4 entries, 0 to 3\n",
      "Data columns (total 3 columns):\n",
      " #   Column  Non-Null Count  Dtype \n",
      "---  ------  --------------  ----- \n",
      " 0   name    4 non-null      object\n",
      " 1   age     4 non-null      int64 \n",
      " 2   city    4 non-null      object\n",
      "dtypes: int64(1), object(2)\n",
      "memory usage: 228.0+ bytes\n",
      "None\n"
     ]
    }
   ],
   "source": [
    "print(df.info())"
   ]
  },
  {
   "cell_type": "code",
   "execution_count": 8,
   "id": "888039fe-52f6-4c8e-8736-0a15ef7b9598",
   "metadata": {},
   "outputs": [
    {
     "name": "stdout",
     "output_type": "stream",
     "text": [
      "             age\n",
      "count   4.000000\n",
      "mean   20.250000\n",
      "std     1.707825\n",
      "min    18.000000\n",
      "25%    19.500000\n",
      "50%    20.500000\n",
      "75%    21.250000\n",
      "max    22.000000\n"
     ]
    }
   ],
   "source": [
    "print(df.describe())"
   ]
  },
  {
   "cell_type": "code",
   "execution_count": 9,
   "id": "1c0cbdfc-9646-4965-aedb-7764e0791d63",
   "metadata": {},
   "outputs": [
    {
     "name": "stdout",
     "output_type": "stream",
     "text": [
      "(4, 3)\n"
     ]
    }
   ],
   "source": [
    "print(df.shape)"
   ]
  },
  {
   "cell_type": "code",
   "execution_count": 10,
   "id": "3f0d27d9-d1d7-499b-91e7-6933d8bea06b",
   "metadata": {},
   "outputs": [
    {
     "name": "stdout",
     "output_type": "stream",
     "text": [
      "Index(['name', 'age', 'city'], dtype='object')\n"
     ]
    }
   ],
   "source": [
    "print(df.columns)"
   ]
  },
  {
   "cell_type": "code",
   "execution_count": 12,
   "id": "48086b08-5047-4c2a-8ed2-134313129d4c",
   "metadata": {},
   "outputs": [
    {
     "name": "stdout",
     "output_type": "stream",
     "text": [
      "0    20\n",
      "1    18\n",
      "2    22\n",
      "3    21\n",
      "Name: age, dtype: int64\n"
     ]
    }
   ],
   "source": [
    "print(df['age'])"
   ]
  },
  {
   "cell_type": "code",
   "execution_count": 13,
   "id": "e8655c30-3627-496d-94ba-99b6d23a99e2",
   "metadata": {},
   "outputs": [
    {
     "name": "stdout",
     "output_type": "stream",
     "text": [
      "    name      city\n",
      "0  Mihir   Mehsana\n",
      "1  Aryan     Surat\n",
      "2  Sneha    Rajkot\n",
      "3  Rohan  Vadodara\n"
     ]
    }
   ],
   "source": [
    "print(df[['name','city']])"
   ]
  },
  {
   "cell_type": "code",
   "execution_count": 14,
   "id": "ce1e0814-7986-49dc-97a1-166592480a93",
   "metadata": {},
   "outputs": [
    {
     "name": "stdout",
     "output_type": "stream",
     "text": [
      "    name  age      city\n",
      "2  Sneha   22    Rajkot\n",
      "3  Rohan   21  Vadodara\n"
     ]
    }
   ],
   "source": [
    "print(df[df['age'] > 20])"
   ]
  },
  {
   "cell_type": "code",
   "execution_count": 15,
   "id": "394b7836-8d7d-4582-afec-510d45301a38",
   "metadata": {},
   "outputs": [],
   "source": [
    "df['age'] = df['age'] + 1"
   ]
  },
  {
   "cell_type": "code",
   "execution_count": 16,
   "id": "00c90287-f48a-4f98-bb1d-a596968c1e27",
   "metadata": {},
   "outputs": [
    {
     "name": "stdout",
     "output_type": "stream",
     "text": [
      "    name  age      city\n",
      "0  Mihir   21   Mehsana\n",
      "1  Aryan   19     Surat\n",
      "2  Sneha   23    Rajkot\n",
      "3  Rohan   22  Vadodara\n"
     ]
    }
   ],
   "source": [
    "print(df)"
   ]
  },
  {
   "cell_type": "code",
   "execution_count": 17,
   "id": "da46d016-fe2f-42d8-aa5e-63957cb0a2d7",
   "metadata": {},
   "outputs": [],
   "source": [
    "df['maks'] = [85, 92, 78, 88]"
   ]
  },
  {
   "cell_type": "code",
   "execution_count": 18,
   "id": "b4c510be-2a4f-4071-ba50-e8e5b8322ade",
   "metadata": {},
   "outputs": [
    {
     "name": "stdout",
     "output_type": "stream",
     "text": [
      "    name  age      city  maks\n",
      "0  Mihir   21   Mehsana    85\n",
      "1  Aryan   19     Surat    92\n",
      "2  Sneha   23    Rajkot    78\n",
      "3  Rohan   22  Vadodara    88\n"
     ]
    }
   ],
   "source": [
    "print(df)"
   ]
  },
  {
   "cell_type": "code",
   "execution_count": 19,
   "id": "0db5f271-4b89-4a3a-859e-7a92989b8f3d",
   "metadata": {},
   "outputs": [],
   "source": [
    "df.to_csv(\"student.csv\",index=False)"
   ]
  },
  {
   "cell_type": "code",
   "execution_count": 22,
   "id": "55c77413-3e5f-4cc7-a2e3-6009ec005bec",
   "metadata": {},
   "outputs": [
    {
     "name": "stdout",
     "output_type": "stream",
     "text": [
      "    name  age      city  maks\n",
      "0  Mihir   21   Mehsana    85\n",
      "1  Aryan   19     Surat    92\n",
      "2  Sneha   23    Rajkot    78\n",
      "3  Rohan   22  Vadodara    88\n"
     ]
    }
   ],
   "source": [
    "print(pd.read_csv(\"student.csv\"))"
   ]
  },
  {
   "cell_type": "code",
   "execution_count": 24,
   "id": "72e0a128-d879-4c9f-92e0-6bdf7da9e2bd",
   "metadata": {},
   "outputs": [],
   "source": [
    "df = df.drop(columns=['city'])"
   ]
  },
  {
   "cell_type": "code",
   "execution_count": 25,
   "id": "67336eef-4b36-4ff7-bce4-e28b8e00b302",
   "metadata": {},
   "outputs": [
    {
     "name": "stdout",
     "output_type": "stream",
     "text": [
      "    name  age  maks\n",
      "0  Mihir   21    85\n",
      "1  Aryan   19    92\n",
      "2  Sneha   23    78\n",
      "3  Rohan   22    88\n"
     ]
    }
   ],
   "source": [
    "print(df)"
   ]
  },
  {
   "cell_type": "code",
   "execution_count": 26,
   "id": "1f62cc77-19de-40e7-b297-ae1abfbf8716",
   "metadata": {},
   "outputs": [
    {
     "name": "stdout",
     "output_type": "stream",
     "text": [
      "name    0\n",
      "age     0\n",
      "maks    0\n",
      "dtype: int64\n"
     ]
    }
   ],
   "source": [
    "print(df.isnull().sum())"
   ]
  },
  {
   "cell_type": "code",
   "execution_count": 27,
   "id": "034c8854-354d-4955-bfda-30233da14c74",
   "metadata": {},
   "outputs": [
    {
     "name": "stderr",
     "output_type": "stream",
     "text": [
      "C:\\Users\\admin\\AppData\\Local\\Temp\\ipykernel_10280\\1503503937.py:1: FutureWarning: A value is trying to be set on a copy of a DataFrame or Series through chained assignment using an inplace method.\n",
      "The behavior will change in pandas 3.0. This inplace method will never work because the intermediate object on which we are setting values always behaves as a copy.\n",
      "\n",
      "For example, when doing 'df[col].method(value, inplace=True)', try using 'df.method({col: value}, inplace=True)' or df[col] = df[col].method(value) instead, to perform the operation inplace on the original object.\n",
      "\n",
      "\n",
      "  df['age'].fillna(df['age'].mean(), inplace=True)\n"
     ]
    }
   ],
   "source": [
    "df['age'].fillna(df['age'].mean(), inplace=True)"
   ]
  },
  {
   "cell_type": "code",
   "execution_count": 28,
   "id": "3e4cb231-328c-4ad2-bcf2-91f5eed8ecf5",
   "metadata": {},
   "outputs": [],
   "source": [
    "df.dropna(inplace=True)"
   ]
  },
  {
   "cell_type": "code",
   "execution_count": 29,
   "id": "b95881ae-f59c-42de-89ac-343b2ed93a00",
   "metadata": {},
   "outputs": [
    {
     "name": "stdout",
     "output_type": "stream",
     "text": [
      "    name  age  maks\n",
      "0  Mihir   21    85\n",
      "1  Aryan   19    92\n",
      "2  Sneha   23    78\n",
      "3  Rohan   22    88\n"
     ]
    }
   ],
   "source": [
    "print(df)"
   ]
  },
  {
   "cell_type": "code",
   "execution_count": null,
   "id": "1976412e-a9c9-47af-90e6-250148d2b010",
   "metadata": {},
   "outputs": [],
   "source": []
  }
 ],
 "metadata": {
  "kernelspec": {
   "display_name": "Python 3 (ipykernel)",
   "language": "python",
   "name": "python3"
  },
  "language_info": {
   "codemirror_mode": {
    "name": "ipython",
    "version": 3
   },
   "file_extension": ".py",
   "mimetype": "text/x-python",
   "name": "python",
   "nbconvert_exporter": "python",
   "pygments_lexer": "ipython3",
   "version": "3.13.2"
  }
 },
 "nbformat": 4,
 "nbformat_minor": 5
}
