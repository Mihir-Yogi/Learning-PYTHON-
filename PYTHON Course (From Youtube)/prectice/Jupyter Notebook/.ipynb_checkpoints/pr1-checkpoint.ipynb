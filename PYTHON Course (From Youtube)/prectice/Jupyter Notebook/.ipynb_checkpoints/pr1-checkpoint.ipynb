{
 "cells": [
  {
   "cell_type": "markdown",
   "id": "e2866612-d145-499d-8074-de6e49b147ea",
   "metadata": {},
   "source": [
    "# NUMPY PROGRAM PRECTICE"
   ]
  },
  {
   "cell_type": "markdown",
   "id": "0b1ea2db-c58c-44ad-8793-afdf117b9bb4",
   "metadata": {},
   "source": [
    "## Weather Data Analysis 🌦️"
   ]
  },
  {
   "cell_type": "code",
   "execution_count": 2,
   "id": "6ddbc20b-8f41-4a01-8df4-65c06375ce94",
   "metadata": {},
   "outputs": [],
   "source": [
    "import numpy as np"
   ]
  },
  {
   "cell_type": "code",
   "execution_count": 3,
   "id": "20153274-3b2b-4370-8100-a62a8934a422",
   "metadata": {},
   "outputs": [],
   "source": [
    "temps = np.array([32, 35, 28, 30, 31, 29, 33])"
   ]
  },
  {
   "cell_type": "code",
   "execution_count": 4,
   "id": "974cfc95-f5e3-4910-aa40-1cdea3df28a9",
   "metadata": {},
   "outputs": [
    {
     "name": "stdout",
     "output_type": "stream",
     "text": [
      "[89.6 95.  82.4 86.  87.8 84.2 91.4]\n"
     ]
    }
   ],
   "source": [
    "print(temps * 9/5 +32)"
   ]
  },
  {
   "cell_type": "code",
   "execution_count": 5,
   "id": "23b174e7-6dd0-480c-9ae4-1df919dc1434",
   "metadata": {},
   "outputs": [
    {
     "name": "stdout",
     "output_type": "stream",
     "text": [
      "31.142857142857142\n"
     ]
    }
   ],
   "source": [
    "print(np.mean(temps))"
   ]
  },
  {
   "cell_type": "code",
   "execution_count": 6,
   "id": "229bfe7c-b628-40a2-9c59-09ac7ed7729f",
   "metadata": {},
   "outputs": [
    {
     "name": "stdout",
     "output_type": "stream",
     "text": [
      "28\n"
     ]
    }
   ],
   "source": [
    "print(np.min(temps))"
   ]
  },
  {
   "cell_type": "code",
   "execution_count": 7,
   "id": "6f2d0b20-4c25-44a6-aa7a-7f93c5db4bbe",
   "metadata": {},
   "outputs": [
    {
     "name": "stdout",
     "output_type": "stream",
     "text": [
      "35\n"
     ]
    }
   ],
   "source": [
    "print(np.max(temps))"
   ]
  },
  {
   "cell_type": "markdown",
   "id": "4953b260-ad89-4901-bc30-676f269c3c5e",
   "metadata": {},
   "source": [
    "## E-commerce Sales Analysis 🛒 ##"
   ]
  },
  {
   "cell_type": "code",
   "execution_count": 9,
   "id": "3783aa51-6c99-4163-be0d-43be087e19e8",
   "metadata": {},
   "outputs": [],
   "source": [
    "sales = np.array([12, 15, 9, 14, 11, 18, 16, 13, 17, 19])"
   ]
  },
  {
   "cell_type": "code",
   "execution_count": 10,
   "id": "34d485ce-007c-4af9-9b12-f7b6360b98fd",
   "metadata": {},
   "outputs": [
    {
     "name": "stdout",
     "output_type": "stream",
     "text": [
      "144\n"
     ]
    }
   ],
   "source": [
    "print(np.sum(sales))"
   ]
  },
  {
   "cell_type": "code",
   "execution_count": 11,
   "id": "841af177-c9f7-4f18-a964-cee974077463",
   "metadata": {},
   "outputs": [
    {
     "name": "stdout",
     "output_type": "stream",
     "text": [
      "14.4\n"
     ]
    }
   ],
   "source": [
    "print(np.mean(sales))"
   ]
  },
  {
   "cell_type": "code",
   "execution_count": 14,
   "id": "283a59ad-97f4-466b-a102-fc192e85034d",
   "metadata": {},
   "outputs": [
    {
     "name": "stdout",
     "output_type": "stream",
     "text": [
      "4\n",
      "[18 16 17 19]\n"
     ]
    }
   ],
   "source": [
    "print(np.size(sales[sales > 15]))\n",
    "print(sales[sales > 15])"
   ]
  },
  {
   "cell_type": "code",
   "execution_count": 15,
   "id": "f6916171-13f7-4c8e-863f-3fd2cd5f4f9f",
   "metadata": {},
   "outputs": [
    {
     "name": "stdout",
     "output_type": "stream",
     "text": [
      "[ 9 11 12 13 14 15 16 17 18 19]\n"
     ]
    }
   ],
   "source": [
    "print(np.sort(sales))"
   ]
  },
  {
   "cell_type": "markdown",
   "id": "54628b2d-d5a8-4ea9-9328-98ca1e63bfaf",
   "metadata": {},
   "source": [
    "## Image Processing Basics 🖼️ ##"
   ]
  },
  {
   "cell_type": "code",
   "execution_count": 16,
   "id": "b638a75b-32be-4e0f-a8bb-e4b4ad111ac4",
   "metadata": {},
   "outputs": [],
   "source": [
    "image = np.array([[100, 150, 200], [50, 120, 180], [30, 80, 160]])"
   ]
  },
  {
   "cell_type": "code",
   "execution_count": 17,
   "id": "76754c7c-9636-411b-8aa2-9276ced1e554",
   "metadata": {},
   "outputs": [
    {
     "name": "stdout",
     "output_type": "stream",
     "text": [
      "[[150 200 250]\n",
      " [100 170 230]\n",
      " [ 80 130 210]]\n"
     ]
    }
   ],
   "source": [
    "brightness = 50\n",
    "print(image + brightness)"
   ]
  },
  {
   "cell_type": "code",
   "execution_count": 18,
   "id": "04f23870-6335-4088-a7e1-f04fe38c8306",
   "metadata": {},
   "outputs": [
    {
     "name": "stdout",
     "output_type": "stream",
     "text": [
      "118.88888888888889\n"
     ]
    }
   ],
   "source": [
    "print(np.mean(image))"
   ]
  },
  {
   "cell_type": "code",
   "execution_count": 20,
   "id": "25d40eaa-4a09-4b3a-b9a1-261f997b2e10",
   "metadata": {},
   "outputs": [
    {
     "name": "stdout",
     "output_type": "stream",
     "text": [
      "[ 50 120 180]\n"
     ]
    }
   ],
   "source": [
    "print(image[1,:])"
   ]
  },
  {
   "cell_type": "code",
   "execution_count": 21,
   "id": "81d8a414-4289-449b-8ec1-273286872d80",
   "metadata": {},
   "outputs": [
    {
     "name": "stdout",
     "output_type": "stream",
     "text": [
      "[100  50  30]\n"
     ]
    }
   ],
   "source": [
    "print(image[:,0])"
   ]
  },
  {
   "cell_type": "markdown",
   "id": "9f49f490-b468-4c19-a54a-05b7bf61cf19",
   "metadata": {},
   "source": [
    "## Stock Market Data 📈 ##"
   ]
  },
  {
   "cell_type": "code",
   "execution_count": 2,
   "id": "a3dbaadb-8353-4511-9545-72d3b2a3a395",
   "metadata": {},
   "outputs": [],
   "source": [
    "import numpy as np"
   ]
  },
  {
   "cell_type": "code",
   "execution_count": 3,
   "id": "0560340f-0ad2-40e5-be12-f522185dc609",
   "metadata": {},
   "outputs": [],
   "source": [
    "stocks = np.array([1200, 1250, 1220, 1300, 1280])"
   ]
  },
  {
   "cell_type": "code",
   "execution_count": 5,
   "id": "242d65d5-a45a-4749-9d70-9b3ff8e5ced3",
   "metadata": {},
   "outputs": [
    {
     "name": "stdout",
     "output_type": "stream",
     "text": [
      "[12.  12.5 12.2 13.  12.8]\n"
     ]
    }
   ],
   "source": [
    "print(stocks / 100)"
   ]
  },
  {
   "cell_type": "code",
   "execution_count": 13,
   "id": "77ef0e8a-1634-44dc-8df1-8f5d7e0e147f",
   "metadata": {},
   "outputs": [
    {
     "name": "stdout",
     "output_type": "stream",
     "text": [
      "4\n"
     ]
    }
   ],
   "source": [
    "print(np.argmax(stocks) + 1)"
   ]
  },
  {
   "cell_type": "code",
   "execution_count": 17,
   "id": "a4cab84e-5376-42a6-a698-5b71b2ba54fc",
   "metadata": {},
   "outputs": [
    {
     "name": "stdout",
     "output_type": "stream",
     "text": [
      "1250.0\n"
     ]
    }
   ],
   "source": [
    "arr_average = np.mean(stocks)\n",
    "print(arr_average)"
   ]
  },
  {
   "cell_type": "code",
   "execution_count": 18,
   "id": "34b6ba87-d368-41d6-87de-99eb727deb4e",
   "metadata": {},
   "outputs": [
    {
     "name": "stdout",
     "output_type": "stream",
     "text": [
      "[-50.   0. -30.  50.  30.]\n"
     ]
    }
   ],
   "source": [
    "print(stocks - arr_average)"
   ]
  },
  {
   "cell_type": "markdown",
   "id": "12bf33a5-d858-4fae-a42e-46822057c059",
   "metadata": {},
   "source": [
    "##  Student Marks Processing 🎓 ##"
   ]
  },
  {
   "cell_type": "code",
   "execution_count": 2,
   "id": "4bf450e1-0584-4baa-a621-a50fab8cf1de",
   "metadata": {},
   "outputs": [],
   "source": [
    "import numpy as np"
   ]
  },
  {
   "cell_type": "code",
   "execution_count": 3,
   "id": "e018f1fd-5cca-4eca-9bca-ab418b8cab4b",
   "metadata": {},
   "outputs": [],
   "source": [
    "marks = np.array([[80, 90, 85], [70, 75, 78], [88, 92, 95], [60, 65, 70], [90, 85, 88]])"
   ]
  },
  {
   "cell_type": "code",
   "execution_count": 5,
   "id": "5a755d3c-f1ac-4586-ba97-a91cd72cd123",
   "metadata": {},
   "outputs": [
    {
     "name": "stdout",
     "output_type": "stream",
     "text": [
      "[255 223 275 195 263]\n"
     ]
    }
   ],
   "source": [
    "print(np.sum(marks,axis = 1))"
   ]
  },
  {
   "cell_type": "code",
   "execution_count": 6,
   "id": "ac491bfc-1a41-4acb-b1ba-8c5b11d81756",
   "metadata": {},
   "outputs": [
    {
     "name": "stdout",
     "output_type": "stream",
     "text": [
      "[77.6 81.4 83.2]\n"
     ]
    }
   ],
   "source": [
    "print(np.mean(marks,axis = 0))"
   ]
  },
  {
   "cell_type": "code",
   "execution_count": 20,
   "id": "657fb3eb-cb5b-423a-9a6d-60ecf6f34864",
   "metadata": {},
   "outputs": [],
   "source": [
    "scored_student = np.all(marks > 84, axis = 1)"
   ]
  },
  {
   "cell_type": "code",
   "execution_count": 21,
   "id": "9519674d-1719-46f4-8351-ffb739d6a8c8",
   "metadata": {},
   "outputs": [
    {
     "name": "stdout",
     "output_type": "stream",
     "text": [
      "[False False  True False  True]\n"
     ]
    }
   ],
   "source": [
    "print(scored_student)"
   ]
  },
  {
   "cell_type": "code",
   "execution_count": 22,
   "id": "027c6fec-de5d-4584-8a25-35d5fa673aa8",
   "metadata": {},
   "outputs": [],
   "source": [
    "score = np.where(scored_student)[0] + 1"
   ]
  },
  {
   "cell_type": "code",
   "execution_count": 23,
   "id": "6023b65c-dd87-47bf-8473-175629eb0a84",
   "metadata": {},
   "outputs": [
    {
     "name": "stdout",
     "output_type": "stream",
     "text": [
      "[3 5]\n"
     ]
    }
   ],
   "source": [
    "print(score)"
   ]
  },
  {
   "cell_type": "markdown",
   "id": "87c20766-40dc-408a-a582-edfcf4eec56f",
   "metadata": {},
   "source": [
    "## Customer Review Analysis ⭐ ##"
   ]
  },
  {
   "cell_type": "code",
   "execution_count": 25,
   "id": "709d0f16-9ca6-40ab-85b0-b35efed42fba",
   "metadata": {},
   "outputs": [],
   "source": [
    "ratings = np.array([4, 5, 2, 3, 5, 1])"
   ]
  },
  {
   "cell_type": "code",
   "execution_count": 26,
   "id": "8a267145-281b-4cca-9673-6271c93f5922",
   "metadata": {},
   "outputs": [
    {
     "name": "stdout",
     "output_type": "stream",
     "text": [
      "3.3333333333333335\n"
     ]
    }
   ],
   "source": [
    "print(np.mean(ratings))"
   ]
  },
  {
   "cell_type": "code",
   "execution_count": 32,
   "id": "354ef9ed-3933-4bed-9099-3a7a0c98c3ee",
   "metadata": {},
   "outputs": [
    {
     "name": "stdout",
     "output_type": "stream",
     "text": [
      "33.33333333333333\n"
     ]
    }
   ],
   "source": [
    "print(np.sum(ratings == 5) / len(ratings) * 100)"
   ]
  },
  {
   "cell_type": "code",
   "execution_count": 36,
   "id": "75b1b3e2-1863-4410-8390-2f8b319aacf8",
   "metadata": {},
   "outputs": [
    {
     "name": "stdout",
     "output_type": "stream",
     "text": [
      "3\n"
     ]
    }
   ],
   "source": [
    "print(np.sum(ratings <= 3))"
   ]
  },
  {
   "cell_type": "code",
   "execution_count": 39,
   "id": "5e665286-dfe8-4c80-ab64-f8e980e1d012",
   "metadata": {},
   "outputs": [
    {
     "name": "stdout",
     "output_type": "stream",
     "text": [
      "['Good' 'Excellent' 'Poor' 'Average' 'Excellent' 'Terrible']\n"
     ]
    }
   ],
   "source": [
    "satisfaction =  np.where(ratings == 5,\"Excellent\",\n",
    "                np.where(ratings == 4, \"Good\",\n",
    "                np.where(ratings == 3, \"Average\",\n",
    "                np.where(ratings == 2, \"Poor\",\"Terrible\"))))\n",
    "print(satisfaction)"
   ]
  },
  {
   "cell_type": "markdown",
   "id": "5d6039b9-a678-4a24-bda6-a39eaa7a4dfb",
   "metadata": {},
   "source": [
    "## Fitness Tracker 📊 ##"
   ]
  },
  {
   "cell_type": "code",
   "execution_count": 52,
   "id": "38b967b4-29c3-4ec9-a4dd-d07fae027829",
   "metadata": {},
   "outputs": [],
   "source": [
    "steps = np.array([8000, 7500, 8200, 7800, 6000, 10000, 9500])"
   ]
  },
  {
   "cell_type": "code",
   "execution_count": 53,
   "id": "0db03fe3-b7fd-4fbc-b615-5a86f983f784",
   "metadata": {},
   "outputs": [
    {
     "name": "stdout",
     "output_type": "stream",
     "text": [
      "66500\n"
     ]
    }
   ],
   "source": [
    "print(np.sum(steps))"
   ]
  },
  {
   "cell_type": "code",
   "execution_count": 54,
   "id": "d6d19d15-ec1e-4a8d-b6f5-361ab0e99cb5",
   "metadata": {},
   "outputs": [
    {
     "name": "stdout",
     "output_type": "stream",
     "text": [
      "8312.5\n"
     ]
    }
   ],
   "source": [
    "print(np.mean(steps))"
   ]
  },
  {
   "cell_type": "code",
   "execution_count": 55,
   "id": "967883c1-815d-4644-8b74-bfbc0263f9f2",
   "metadata": {},
   "outputs": [
    {
     "name": "stdout",
     "output_type": "stream",
     "text": [
      "3\n"
     ]
    }
   ],
   "source": [
    "print(np.sum(steps < 8000))"
   ]
  },
  {
   "cell_type": "code",
   "execution_count": 59,
   "id": "a1d4d68a-ed10-4b2a-98c0-04bc92cc04a8",
   "metadata": {},
   "outputs": [
    {
     "name": "stdout",
     "output_type": "stream",
     "text": [
      "6\n"
     ]
    }
   ],
   "source": [
    "print(np.argmax(steps) + 1)"
   ]
  },
  {
   "cell_type": "markdown",
   "id": "d959d2cc-c7ff-4415-b7f4-981b338a3725",
   "metadata": {},
   "source": [
    "## Banking Transactions 💰 ##"
   ]
  },
  {
   "cell_type": "code",
   "execution_count": 2,
   "id": "28327e76-6e24-428c-b3da-de7d16a30438",
   "metadata": {},
   "outputs": [],
   "source": [
    "import numpy as np"
   ]
  },
  {
   "cell_type": "code",
   "execution_count": 3,
   "id": "5725152c-c028-42aa-9ef2-a22ce92b4585",
   "metadata": {},
   "outputs": [],
   "source": [
    "transactions = np.array([5000, -2000, 3000, -1000, 7000, -500, 2000])"
   ]
  },
  {
   "cell_type": "code",
   "execution_count": 4,
   "id": "9586628c-52b2-492f-bba2-0b5b5f28d933",
   "metadata": {},
   "outputs": [
    {
     "name": "stdout",
     "output_type": "stream",
     "text": [
      "13500\n"
     ]
    }
   ],
   "source": [
    "print(np.sum(transactions))"
   ]
  },
  {
   "cell_type": "code",
   "execution_count": 5,
   "id": "3d5a39ea-7e06-4a66-bfc0-7415fa03dfff",
   "metadata": {},
   "outputs": [
    {
     "name": "stdout",
     "output_type": "stream",
     "text": [
      "1928.5714285714287\n"
     ]
    }
   ],
   "source": [
    "print(np.mean(transactions))"
   ]
  },
  {
   "cell_type": "code",
   "execution_count": 11,
   "id": "11eaa0e8-3574-4efe-b58e-e56c5b7098e1",
   "metadata": {},
   "outputs": [
    {
     "name": "stdout",
     "output_type": "stream",
     "text": [
      "3\n"
     ]
    }
   ],
   "source": [
    "print(np.sum(transactions < 0))"
   ]
  },
  {
   "cell_type": "code",
   "execution_count": 12,
   "id": "9338aff1-adcc-43d7-ac9e-096af09e54cb",
   "metadata": {},
   "outputs": [
    {
     "name": "stdout",
     "output_type": "stream",
     "text": [
      "[5000 3000 7000 2000]\n"
     ]
    }
   ],
   "source": [
    "print(transactions[transactions > 0])"
   ]
  },
  {
   "cell_type": "markdown",
   "id": "f5e1a59d-bacb-4b01-93f6-4ba6b4d2a318",
   "metadata": {},
   "source": [
    "##  Machine Learning Data Scaling ⚙️ ##"
   ]
  },
  {
   "cell_type": "code",
   "execution_count": 13,
   "id": "2613139f-96ab-4340-9796-eec80e11189b",
   "metadata": {},
   "outputs": [],
   "source": [
    "data = np.array([25, 50, 75, 100, 125])"
   ]
  },
  {
   "cell_type": "code",
   "execution_count": 14,
   "id": "37ec4773-19b8-4562-aeb6-632bf1c4d1f2",
   "metadata": {},
   "outputs": [],
   "source": [
    "min_data = np.min(data)"
   ]
  },
  {
   "cell_type": "code",
   "execution_count": 15,
   "id": "6fa2d84c-e1f7-49da-84e5-a74bedadc8b2",
   "metadata": {},
   "outputs": [],
   "source": [
    "max_data = np.max(data)"
   ]
  },
  {
   "cell_type": "code",
   "execution_count": 16,
   "id": "7f9a9784-f318-480d-b123-e1388e0bc843",
   "metadata": {},
   "outputs": [],
   "source": [
    "answer = (data - min_data) / (max_data -min_data)"
   ]
  },
  {
   "cell_type": "code",
   "execution_count": 17,
   "id": "4c473fed-08d5-43f7-aa34-8c1eb184b806",
   "metadata": {},
   "outputs": [
    {
     "name": "stdout",
     "output_type": "stream",
     "text": [
      "[0.   0.25 0.5  0.75 1.  ]\n"
     ]
    }
   ],
   "source": [
    "print(answer)"
   ]
  },
  {
   "cell_type": "code",
   "execution_count": 20,
   "id": "689a4cb6-0fe6-40bf-8cc5-017b12f16f3c",
   "metadata": {},
   "outputs": [],
   "source": [
    "z = data - np.mean(data) / np.std(data)"
   ]
  },
  {
   "cell_type": "code",
   "execution_count": 21,
   "id": "bf03863e-c9e0-4ebc-8f1d-f7db9a4ec78e",
   "metadata": {},
   "outputs": [
    {
     "name": "stdout",
     "output_type": "stream",
     "text": [
      "[ 22.87867966  47.87867966  72.87867966  97.87867966 122.87867966]\n"
     ]
    }
   ],
   "source": [
    "print(z)"
   ]
  },
  {
   "cell_type": "markdown",
   "id": "569e96ff-f9b9-4774-960f-6f85ea53ce91",
   "metadata": {},
   "source": [
    "## FINAL CHALLENGE: AI Data Preparation 🤖 ##"
   ]
  },
  {
   "cell_type": "code",
   "execution_count": 40,
   "id": "fb3f3935-578e-4a92-96f1-a38e2f54369f",
   "metadata": {},
   "outputs": [],
   "source": [
    "np.random.seed(45)"
   ]
  },
  {
   "cell_type": "code",
   "execution_count": 41,
   "id": "af8efd44-8de2-48fe-950e-6e42b22a1485",
   "metadata": {},
   "outputs": [],
   "source": [
    "data = np.random.randint(1,500,100)"
   ]
  },
  {
   "cell_type": "code",
   "execution_count": 42,
   "id": "bbffc636-dfff-4ee0-842d-675947148918",
   "metadata": {},
   "outputs": [
    {
     "name": "stdout",
     "output_type": "stream",
     "text": [
      "[460 415 132 381  33  96 446 214 164  69 378 121  16  66 399 310  58 375\n",
      " 457 216 303 265 182 397 419 381  25 269  18 487 197 111 127 159 313 271\n",
      " 491  37 288  87 421 186 190 208 402   7 365  43  12 233 137  50  78 380\n",
      " 204 254 320  43  55 401 245 153 368 497 234  96 320  99 279 104  28 289\n",
      " 401 204 187 243 317 106 499 311 481 378 199 161 489 249 145 316 487  93\n",
      " 384 312  89   6 252  82 478 464 452  56]\n"
     ]
    }
   ],
   "source": [
    "print(data)"
   ]
  },
  {
   "cell_type": "code",
   "execution_count": 43,
   "id": "5356c202-f3b6-48ed-a0f6-c5bd3b5f012d",
   "metadata": {},
   "outputs": [],
   "source": [
    "mean = np.mean(data)"
   ]
  },
  {
   "cell_type": "code",
   "execution_count": 44,
   "id": "fd499790-5138-4a09-b219-9f4554908f57",
   "metadata": {},
   "outputs": [],
   "source": [
    "median = np.median(data)"
   ]
  },
  {
   "cell_type": "code",
   "execution_count": 45,
   "id": "c970dec5-77d5-45eb-9b4c-af0f58d24f1c",
   "metadata": {},
   "outputs": [],
   "source": [
    "std = np.std(data)"
   ]
  },
  {
   "cell_type": "code",
   "execution_count": 47,
   "id": "068e21ed-6a86-4e61-938f-1bbb1e178122",
   "metadata": {},
   "outputs": [
    {
     "name": "stdout",
     "output_type": "stream",
     "text": [
      " Mean = 241.75 \n",
      " Median = 238.5 \n",
      " standerd deviation = 149.18407254127365\n"
     ]
    }
   ],
   "source": [
    "print(f\" Mean = {mean} \\n Median = {median} \\n standerd deviation = {std}\")"
   ]
  },
  {
   "cell_type": "code",
   "execution_count": 52,
   "id": "cbc81ab9-caf4-49ee-95e7-fabb6579f03e",
   "metadata": {},
   "outputs": [
    {
     "name": "stdout",
     "output_type": "stream",
     "text": [
      "[460 415 381 446 378 399 310 375 457 303 265 397 419 381 269 487 313 271\n",
      " 491 288 421 402 365 380 254 320 401 245 368 497 320 279 289 401 243 317\n",
      " 499 311 481 378 489 249 316 487 384 312 252 478 464 452]\n"
     ]
    }
   ],
   "source": [
    "print(data[data > mean])"
   ]
  },
  {
   "cell_type": "code",
   "execution_count": 54,
   "id": "47713265-849e-49e2-83b1-4d6a9af55778",
   "metadata": {},
   "outputs": [],
   "source": [
    "new_arr = data.reshape(10,10)"
   ]
  },
  {
   "cell_type": "code",
   "execution_count": 55,
   "id": "b3b3b741-2736-4894-b90b-804219b79e62",
   "metadata": {},
   "outputs": [
    {
     "name": "stdout",
     "output_type": "stream",
     "text": [
      "[[460 415 132 381  33  96 446 214 164  69]\n",
      " [378 121  16  66 399 310  58 375 457 216]\n",
      " [303 265 182 397 419 381  25 269  18 487]\n",
      " [197 111 127 159 313 271 491  37 288  87]\n",
      " [421 186 190 208 402   7 365  43  12 233]\n",
      " [137  50  78 380 204 254 320  43  55 401]\n",
      " [245 153 368 497 234  96 320  99 279 104]\n",
      " [ 28 289 401 204 187 243 317 106 499 311]\n",
      " [481 378 199 161 489 249 145 316 487  93]\n",
      " [384 312  89   6 252  82 478 464 452  56]]\n"
     ]
    }
   ],
   "source": [
    "print(new_arr)"
   ]
  },
  {
   "cell_type": "code",
   "execution_count": 56,
   "id": "b47370e3-8bdd-48d9-8e26-c6c12922d1c5",
   "metadata": {},
   "outputs": [
    {
     "name": "stdout",
     "output_type": "stream",
     "text": [
      "[2410 2396 2746 2081 2067 1922 2395 2585 2998 2575]\n"
     ]
    }
   ],
   "source": [
    "print(np.sum(new_arr, axis=1))"
   ]
  },
  {
   "cell_type": "code",
   "execution_count": 57,
   "id": "452ca8f6-f1c4-4fbc-8808-f6683c0b92cc",
   "metadata": {},
   "outputs": [
    {
     "name": "stdout",
     "output_type": "stream",
     "text": [
      "[460 415 310 375 265  25 190 365  50 380 320  55 245 320 145]\n"
     ]
    }
   ],
   "source": [
    "print(new_arr[new_arr % 5 == 0])"
   ]
  },
  {
   "cell_type": "code",
   "execution_count": null,
   "id": "c0c115e1-bc29-42bf-a5ee-ddfb6d830271",
   "metadata": {},
   "outputs": [],
   "source": []
  }
 ],
 "metadata": {
  "kernelspec": {
   "display_name": "Python 3 (ipykernel)",
   "language": "python",
   "name": "python3"
  },
  "language_info": {
   "codemirror_mode": {
    "name": "ipython",
    "version": 3
   },
   "file_extension": ".py",
   "mimetype": "text/x-python",
   "name": "python",
   "nbconvert_exporter": "python",
   "pygments_lexer": "ipython3",
   "version": "3.13.2"
  }
 },
 "nbformat": 4,
 "nbformat_minor": 5
}
