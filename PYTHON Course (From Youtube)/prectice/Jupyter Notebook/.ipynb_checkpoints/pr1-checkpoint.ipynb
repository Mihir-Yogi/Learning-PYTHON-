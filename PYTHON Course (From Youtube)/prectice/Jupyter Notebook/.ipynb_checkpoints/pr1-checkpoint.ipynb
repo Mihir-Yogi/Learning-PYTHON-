{
 "cells": [
  {
   "cell_type": "code",
   "execution_count": null,
   "id": "6ddbc20b-8f41-4a01-8df4-65c06375ce94",
   "metadata": {},
   "outputs": [],
   "source": []
  },
  {
   "cell_type": "code",
   "execution_count": null,
   "id": "20153274-3b2b-4370-8100-a62a8934a422",
   "metadata": {},
   "outputs": [],
   "source": []
  }
 ],
 "metadata": {
  "kernelspec": {
   "display_name": "Python 3 (ipykernel)",
   "language": "python",
   "name": "python3"
  },
  "language_info": {
   "codemirror_mode": {
    "name": "ipython",
    "version": 3
   },
   "file_extension": ".py",
   "mimetype": "text/x-python",
   "name": "python",
   "nbconvert_exporter": "python",
   "pygments_lexer": "ipython3",
   "version": "3.13.2"
  }
 },
 "nbformat": 4,
 "nbformat_minor": 5
}
