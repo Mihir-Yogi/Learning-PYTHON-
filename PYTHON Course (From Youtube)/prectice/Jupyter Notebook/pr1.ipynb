{
 "cells": [
  {
   "cell_type": "markdown",
   "id": "e2866612-d145-499d-8074-de6e49b147ea",
   "metadata": {},
   "source": [
    "# NUMPY PROGRAM PRECTICE"
   ]
  },
  {
   "cell_type": "markdown",
   "id": "0b1ea2db-c58c-44ad-8793-afdf117b9bb4",
   "metadata": {},
   "source": [
    "## Weather Data Analysis 🌦️"
   ]
  },
  {
   "cell_type": "code",
   "execution_count": 2,
   "id": "6ddbc20b-8f41-4a01-8df4-65c06375ce94",
   "metadata": {},
   "outputs": [],
   "source": [
    "import numpy as np"
   ]
  },
  {
   "cell_type": "code",
   "execution_count": 3,
   "id": "20153274-3b2b-4370-8100-a62a8934a422",
   "metadata": {},
   "outputs": [],
   "source": [
    "temps = np.array([32, 35, 28, 30, 31, 29, 33])"
   ]
  },
  {
   "cell_type": "code",
   "execution_count": 4,
   "id": "974cfc95-f5e3-4910-aa40-1cdea3df28a9",
   "metadata": {},
   "outputs": [
    {
     "name": "stdout",
     "output_type": "stream",
     "text": [
      "[89.6 95.  82.4 86.  87.8 84.2 91.4]\n"
     ]
    }
   ],
   "source": [
    "print(temps * 9/5 +32)"
   ]
  },
  {
   "cell_type": "code",
   "execution_count": 5,
   "id": "23b174e7-6dd0-480c-9ae4-1df919dc1434",
   "metadata": {},
   "outputs": [
    {
     "name": "stdout",
     "output_type": "stream",
     "text": [
      "31.142857142857142\n"
     ]
    }
   ],
   "source": [
    "print(np.mean(temps))"
   ]
  },
  {
   "cell_type": "code",
   "execution_count": 6,
   "id": "229bfe7c-b628-40a2-9c59-09ac7ed7729f",
   "metadata": {},
   "outputs": [
    {
     "name": "stdout",
     "output_type": "stream",
     "text": [
      "28\n"
     ]
    }
   ],
   "source": [
    "print(np.min(temps))"
   ]
  },
  {
   "cell_type": "code",
   "execution_count": 7,
   "id": "6f2d0b20-4c25-44a6-aa7a-7f93c5db4bbe",
   "metadata": {},
   "outputs": [
    {
     "name": "stdout",
     "output_type": "stream",
     "text": [
      "35\n"
     ]
    }
   ],
   "source": [
    "print(np.max(temps))"
   ]
  },
  {
   "cell_type": "markdown",
   "id": "4953b260-ad89-4901-bc30-676f269c3c5e",
   "metadata": {},
   "source": [
    "## E-commerce Sales Analysis 🛒 ##"
   ]
  },
  {
   "cell_type": "code",
   "execution_count": 9,
   "id": "3783aa51-6c99-4163-be0d-43be087e19e8",
   "metadata": {},
   "outputs": [],
   "source": [
    "sales = np.array([12, 15, 9, 14, 11, 18, 16, 13, 17, 19])"
   ]
  },
  {
   "cell_type": "code",
   "execution_count": 10,
   "id": "34d485ce-007c-4af9-9b12-f7b6360b98fd",
   "metadata": {},
   "outputs": [
    {
     "name": "stdout",
     "output_type": "stream",
     "text": [
      "144\n"
     ]
    }
   ],
   "source": [
    "print(np.sum(sales))"
   ]
  },
  {
   "cell_type": "code",
   "execution_count": 11,
   "id": "841af177-c9f7-4f18-a964-cee974077463",
   "metadata": {},
   "outputs": [
    {
     "name": "stdout",
     "output_type": "stream",
     "text": [
      "14.4\n"
     ]
    }
   ],
   "source": [
    "print(np.mean(sales))"
   ]
  },
  {
   "cell_type": "code",
   "execution_count": 14,
   "id": "283a59ad-97f4-466b-a102-fc192e85034d",
   "metadata": {},
   "outputs": [
    {
     "name": "stdout",
     "output_type": "stream",
     "text": [
      "4\n",
      "[18 16 17 19]\n"
     ]
    }
   ],
   "source": [
    "print(np.size(sales[sales > 15]))\n",
    "print(sales[sales > 15])"
   ]
  },
  {
   "cell_type": "code",
   "execution_count": 15,
   "id": "f6916171-13f7-4c8e-863f-3fd2cd5f4f9f",
   "metadata": {},
   "outputs": [
    {
     "name": "stdout",
     "output_type": "stream",
     "text": [
      "[ 9 11 12 13 14 15 16 17 18 19]\n"
     ]
    }
   ],
   "source": [
    "print(np.sort(sales))"
   ]
  },
  {
   "cell_type": "markdown",
   "id": "54628b2d-d5a8-4ea9-9328-98ca1e63bfaf",
   "metadata": {},
   "source": [
    "## Image Processing Basics 🖼️ ##"
   ]
  },
  {
   "cell_type": "code",
   "execution_count": 16,
   "id": "b638a75b-32be-4e0f-a8bb-e4b4ad111ac4",
   "metadata": {},
   "outputs": [],
   "source": [
    "image = np.array([[100, 150, 200], [50, 120, 180], [30, 80, 160]])"
   ]
  },
  {
   "cell_type": "code",
   "execution_count": 17,
   "id": "76754c7c-9636-411b-8aa2-9276ced1e554",
   "metadata": {},
   "outputs": [
    {
     "name": "stdout",
     "output_type": "stream",
     "text": [
      "[[150 200 250]\n",
      " [100 170 230]\n",
      " [ 80 130 210]]\n"
     ]
    }
   ],
   "source": [
    "brightness = 50\n",
    "print(image + brightness)"
   ]
  },
  {
   "cell_type": "code",
   "execution_count": 18,
   "id": "04f23870-6335-4088-a7e1-f04fe38c8306",
   "metadata": {},
   "outputs": [
    {
     "name": "stdout",
     "output_type": "stream",
     "text": [
      "118.88888888888889\n"
     ]
    }
   ],
   "source": [
    "print(np.mean(image))"
   ]
  },
  {
   "cell_type": "code",
   "execution_count": 20,
   "id": "25d40eaa-4a09-4b3a-b9a1-261f997b2e10",
   "metadata": {},
   "outputs": [
    {
     "name": "stdout",
     "output_type": "stream",
     "text": [
      "[ 50 120 180]\n"
     ]
    }
   ],
   "source": [
    "print(image[1,:])"
   ]
  },
  {
   "cell_type": "code",
   "execution_count": 21,
   "id": "81d8a414-4289-449b-8ec1-273286872d80",
   "metadata": {},
   "outputs": [
    {
     "name": "stdout",
     "output_type": "stream",
     "text": [
      "[100  50  30]\n"
     ]
    }
   ],
   "source": [
    "print(image[:,0])"
   ]
  },
  {
   "cell_type": "markdown",
   "id": "9f49f490-b468-4c19-a54a-05b7bf61cf19",
   "metadata": {},
   "source": [
    "## Stock Market Data 📈 ##"
   ]
  },
  {
   "cell_type": "code",
   "execution_count": null,
   "id": "0560340f-0ad2-40e5-be12-f522185dc609",
   "metadata": {},
   "outputs": [],
   "source": []
  }
 ],
 "metadata": {
  "kernelspec": {
   "display_name": "Python 3 (ipykernel)",
   "language": "python",
   "name": "python3"
  },
  "language_info": {
   "codemirror_mode": {
    "name": "ipython",
    "version": 3
   },
   "file_extension": ".py",
   "mimetype": "text/x-python",
   "name": "python",
   "nbconvert_exporter": "python",
   "pygments_lexer": "ipython3",
   "version": "3.13.2"
  }
 },
 "nbformat": 4,
 "nbformat_minor": 5
}
